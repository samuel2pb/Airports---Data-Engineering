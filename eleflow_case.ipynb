{
 "cells": [
  {
   "cell_type": "markdown",
   "metadata": {},
   "source": [
    "#### Importando Bibliotecas Necessárias\n",
    "\n",
    "\n",
    "Iciando a resposta dos itens extras, optei por fazer essa primeira etapa de extração utilizando Spark. \n",
    "\n",
    "Optei pelo uso desse framework pois ele escala bem e lida muito bem com uma variadade de dados, \n",
    "simplificando o processo de extração e tratamento em poucas linhas de código.\n",
    "Ele ainda é eficiente dos pontos de vista de velocidade de processamento e custo. \n",
    "\n",
    "Outras Bibliotecas utilizadas foram SQLite3, Pandas, Numpy e Requests para simular uma operação produtiva.\n",
    "\n",
    "A database utilizada com todas as tabelas e visões também vai em anaxo.\n",
    "\n",
    "Todos os arquivos adicionais estão disponíveis no .zip e no repositório. [link]"
   ]
  },
  {
   "cell_type": "code",
   "execution_count": 17,
   "metadata": {},
   "outputs": [],
   "source": [
    "from pyspark.sql.functions import *\n",
    "from pyspark.sql.session import SparkSession\n",
    "import pandas as pd\n",
    "import numpy as np\n",
    "from utils import normalize_string\n",
    "import requests\n",
    "import sqlite3"
   ]
  },
  {
   "cell_type": "markdown",
   "metadata": {},
   "source": [
    "#### Spark Session e SQLite Cursor"
   ]
  },
  {
   "cell_type": "code",
   "execution_count": 18,
   "metadata": {},
   "outputs": [],
   "source": [
    "spark = SparkSession \\\n",
    "    .builder \\\n",
    "    .master(\"local[1]\") \\\n",
    "    .appName(\"case_eleflow\") \\\n",
    "    .config(\"spark.sql.parquet.compression.codec\", \"gzip\")\\\n",
    "    .getOrCreate()"
   ]
  },
  {
   "cell_type": "code",
   "execution_count": 19,
   "metadata": {},
   "outputs": [],
   "source": [
    "cnx = sqlite3.connect('database.db')\n",
    "cur = cnx.cursor()"
   ]
  },
  {
   "cell_type": "markdown",
   "metadata": {},
   "source": [
    "#### Tratamento VRA - RAW STAGE\n",
    "\n",
    "Para a normalização dos cabeçalhos foi criada a funcao 'normalize_string' que se encontra no arquivo 'utils.py'\n",
    "\n",
    "O conceito da função se baseia no uso do biblioteca 'unicodedata' para remover acentos segundo a regra canônica dos caracters ASCII.\n",
    "\n",
    "Em seguida a função usa uma Regra Regex (Regular Expression) para normalizar qualquer string fornecida como snake case."
   ]
  },
  {
   "cell_type": "code",
   "execution_count": 20,
   "metadata": {},
   "outputs": [],
   "source": [
    "vra = spark.read.format(\"json\").options(header=True).load(\"VRA/*.json\")"
   ]
  },
  {
   "cell_type": "code",
   "execution_count": 21,
   "metadata": {},
   "outputs": [
    {
     "name": "stdout",
     "output_type": "stream",
     "text": [
      "-RECORD 0-----------------------------------\n",
      " ChegadaPrevista      | 2021-11-12 08:30:00 \n",
      " ChegadaReal          | 2021-11-12 08:24:00 \n",
      " CódigoAutorização    | 0                   \n",
      " CódigoJustificativa  | N/A                 \n",
      " CódigoTipoLinha      | X                   \n",
      " ICAOAeródromoDestino | KORD                \n",
      " ICAOAeródromoOrigem  | SBGR                \n",
      " ICAOEmpresaAérea     | UAL                 \n",
      " NúmeroVoo            | 0844                \n",
      " PartidaPrevista      | 2021-11-11 22:00:00 \n",
      " PartidaReal          | 2021-11-11 22:14:00 \n",
      " SituaçãoVoo          | REALIZADO           \n",
      "only showing top 1 row\n",
      "\n"
     ]
    }
   ],
   "source": [
    "vra.show(1,vertical=True)"
   ]
  },
  {
   "cell_type": "code",
   "execution_count": 22,
   "metadata": {},
   "outputs": [],
   "source": [
    "for column in vra.columns:\n",
    "    vra = vra.withColumnRenamed(column,normalize_string(column))"
   ]
  },
  {
   "cell_type": "code",
   "execution_count": 23,
   "metadata": {},
   "outputs": [
    {
     "data": {
      "text/plain": [
       "['chegada_prevista',\n",
       " 'chegada_real',\n",
       " 'codigo_autorizacao',\n",
       " 'codigo_justificativa',\n",
       " 'codigo_tipo_linha',\n",
       " 'icao_aerodromo_destino',\n",
       " 'icao_aerodromo_origem',\n",
       " 'icao_empresa_aerea',\n",
       " 'numero_voo',\n",
       " 'partida_prevista',\n",
       " 'partida_real',\n",
       " 'situacao_voo']"
      ]
     },
     "execution_count": 23,
     "metadata": {},
     "output_type": "execute_result"
    }
   ],
   "source": [
    "vra.columns"
   ]
  },
  {
   "cell_type": "markdown",
   "metadata": {},
   "source": [
    "O passo a seguir descreve a criação da camada de verdade (SSOT - Single Source of Truth) para os dados VRA. \n",
    "\n",
    "Como exemplo deixei comentado algumas possibilidades como salvar como parquet em uma cloud ou escrever com JDBC diretamente em um banco.\n",
    "\n",
    "Para a resolução do case, decidi simplificar essa escrita usando Pandas para não haver a necessidade de baixar nenhum Jar por parte dos avaliadores.\n",
    "\n",
    "Utilizo então o pandas para criar uma tabela numa database utilizando o SQLite3"
   ]
  },
  {
   "cell_type": "code",
   "execution_count": 24,
   "metadata": {},
   "outputs": [
    {
     "data": {
      "text/plain": [
       "535803"
      ]
     },
     "execution_count": 24,
     "metadata": {},
     "output_type": "execute_result"
    }
   ],
   "source": [
    "#vra.write.parquet('bucket...') #Poderiamos escrever no Bucket\n",
    "#vra.write.format('jdbc').mode('append').option('url','database.db').option('dbtable','vra').save() #Poderiamos escrever diretamento no Banco\n",
    "df = vra.toPandas()\n",
    "df.to_sql(name='vra',con=cnx, if_exists='replace', index=False)"
   ]
  },
  {
   "cell_type": "markdown",
   "metadata": {},
   "source": [
    "#### Tratamento AIR_CIA - RAW STAGE"
   ]
  },
  {
   "cell_type": "code",
   "execution_count": 25,
   "metadata": {},
   "outputs": [],
   "source": [
    "air_cia = spark.read.format(\"csv\").option(\"header\",\"True\").option(\"delimiter\",\";\").load(\"AIR_CIA/*.csv\")"
   ]
  },
  {
   "cell_type": "code",
   "execution_count": 26,
   "metadata": {},
   "outputs": [
    {
     "name": "stdout",
     "output_type": "stream",
     "text": [
      "-RECORD 0----------------------------------------\n",
      " Razão Social             | ABSA - AEROLINHAS... \n",
      " ICAO IATA                | LTG M3               \n",
      " CNPJ                     | 00.074.635/0001-33   \n",
      " Atividades Aéreas        | TRANSPORTE AÉREO ... \n",
      " Endereço Sede            | AEROPORTO INTERNA... \n",
      " Telefone                 | (11) 5582-8055       \n",
      " E-Mail                   | gar@tam.com.br       \n",
      " Decisão Operacional      | DECISÃO Nº 41        \n",
      " Data Decisão Operacional | 22/04/2015           \n",
      " Validade Operacional     | 23/04/2025           \n",
      "only showing top 1 row\n",
      "\n"
     ]
    }
   ],
   "source": [
    "air_cia.show(1,vertical=True)"
   ]
  },
  {
   "cell_type": "code",
   "execution_count": 27,
   "metadata": {},
   "outputs": [],
   "source": [
    "for column in air_cia.columns:\n",
    "    air_cia = air_cia.withColumnRenamed(column,normalize_string(column))"
   ]
  },
  {
   "cell_type": "code",
   "execution_count": 28,
   "metadata": {},
   "outputs": [
    {
     "data": {
      "text/plain": [
       "['razao_social',\n",
       " 'icao_iata',\n",
       " 'cnpj',\n",
       " 'atividades_aereas',\n",
       " 'endereco_sede',\n",
       " 'telefone',\n",
       " 'e_mail',\n",
       " 'decisao_operacional',\n",
       " 'data_decisao_operacional',\n",
       " 'validade_operacional']"
      ]
     },
     "execution_count": 28,
     "metadata": {},
     "output_type": "execute_result"
    }
   ],
   "source": [
    "air_cia.columns"
   ]
  },
  {
   "cell_type": "code",
   "execution_count": 29,
   "metadata": {},
   "outputs": [
    {
     "name": "stdout",
     "output_type": "stream",
     "text": [
      "-RECORD 0----------------------------------------\n",
      " razao_social             | ABSA - AEROLINHAS... \n",
      " cnpj                     | 00.074.635/0001-33   \n",
      " atividades_aereas        | TRANSPORTE AÉREO ... \n",
      " endereco_sede            | AEROPORTO INTERNA... \n",
      " telefone                 | (11) 5582-8055       \n",
      " e_mail                   | gar@tam.com.br       \n",
      " decisao_operacional      | DECISÃO Nº 41        \n",
      " data_decisao_operacional | 22/04/2015           \n",
      " validade_operacional     | 23/04/2025           \n",
      " icao                     | LTG                  \n",
      " iata                     | M3                   \n",
      "only showing top 1 row\n",
      "\n"
     ]
    }
   ],
   "source": [
    "splitted = split(air_cia['icao_iata'], ' ')\n",
    "air_cia = air_cia.withColumn('icao',splitted.getItem(0))\\\n",
    "            .withColumn('iata',splitted.getItem(1))\\\n",
    "\n",
    "air_cia = air_cia.drop('icao_iata')   \n",
    "air_cia.show(1, vertical=True)"
   ]
  },
  {
   "cell_type": "code",
   "execution_count": 30,
   "metadata": {},
   "outputs": [
    {
     "data": {
      "text/plain": [
       "20"
      ]
     },
     "execution_count": 30,
     "metadata": {},
     "output_type": "execute_result"
    }
   ],
   "source": [
    "#air_cia.write.parquet('bucket') #Poderiamos escrever no Bucket\n",
    "#air_cia.write.format('jdbc').mode('append').option('url','database.db').option('dbtable','air_cia').save() #Poderiamos escrever diretamento no Banco\n",
    "df = air_cia.toPandas()\n",
    "df.to_sql(name='air_cia',con=cnx, if_exists='replace', index=False)\n"
   ]
  },
  {
   "cell_type": "markdown",
   "metadata": {},
   "source": [
    "### Criacao Tabela Aerodromos - RAW STAGE\n",
    "\n",
    "O primeiro passo consiste na obtenção das chaves únicas para cada um dos aeródromos. \n",
    "\n"
   ]
  },
  {
   "cell_type": "code",
   "execution_count": 31,
   "metadata": {},
   "outputs": [],
   "source": [
    "df = pd.read_sql('SELECT * FROM vra', con=cnx)\n",
    "destino = df.icao_aerodromo_destino.unique()\n",
    "origem = df.icao_aerodromo_origem.unique()\n",
    "icao = np.concatenate([origem,destino])\n",
    "icao = np.unique([icao])"
   ]
  },
  {
   "cell_type": "markdown",
   "metadata": {},
   "source": [
    "Parametros do Endpoint Rapid Api\n",
    "\n",
    "Para o teste existe a necessidade de substituir a \"X-RapidAPI-Key\", por se tratar de credencial. "
   ]
  },
  {
   "cell_type": "code",
   "execution_count": 41,
   "metadata": {},
   "outputs": [],
   "source": [
    "url = \"https://airport-info.p.rapidapi.com/airport\"\n",
    "\n",
    "headers = {\n",
    "\t\"X-RapidAPI-Key\": \"31a41afedemsheb80e711e7f6f38p14eb9bjsnc79ea29a2c93\",\n",
    "\t\"X-RapidAPI-Host\": \"airport-info.p.rapidapi.com\"\n",
    "}"
   ]
  },
  {
   "cell_type": "markdown",
   "metadata": {},
   "source": [
    "O script a seguir utiliza Python puro, pandas e SQLite3 para criar a base aeródromos.\n",
    "\n",
    "Num cenário produtivo poderia ser utilizado spark ou outro framework para escrever diretamento no Banco.\n",
    "\n",
    "No caso de Teste primeiro execute o drop table da tabela aerodromos para recriá-la com base na extração da API. Do contrário a mesma já se encontra no arquivo 'database,db'"
   ]
  },
  {
   "cell_type": "code",
   "execution_count": 42,
   "metadata": {},
   "outputs": [
    {
     "data": {
      "text/plain": [
       "<sqlite3.Cursor at 0x1a6cbaf9040>"
      ]
     },
     "execution_count": 42,
     "metadata": {},
     "output_type": "execute_result"
    }
   ],
   "source": [
    "#cur.execute('drop table aerodromos')"
   ]
  },
  {
   "cell_type": "code",
   "execution_count": 43,
   "metadata": {},
   "outputs": [],
   "source": [
    "errors=[]\n",
    "for code in icao:\n",
    "    querystring = {\"icao\":f\"{code}\"}\n",
    "    try:\n",
    "        response = requests.request(\"GET\", url, headers=headers, params=querystring).json()\n",
    "        aero = pd.DataFrame([response])\n",
    "        aero.to_sql(name='aerodromos', con=cnx, if_exists='append', index=False)\n",
    "    except:\n",
    "        errors.append(code)\n",
    "        continue\n",
    "    "
   ]
  },
  {
   "cell_type": "markdown",
   "metadata": {},
   "source": [
    "### Criacao da Visao Best Routes - SSOT to VIEW\n",
    "Com os dados referentes as rotas mais movimentadas por compania aerea"
   ]
  },
  {
   "cell_type": "markdown",
   "metadata": {},
   "source": [
    "O passo a seguir, executa a modelagem da base via os script \"route.sql\" que está anexado.\n",
    "\n",
    "Esse script é executado e então usamos Pandas para gravar essa visão no banco."
   ]
  },
  {
   "cell_type": "code",
   "execution_count": 44,
   "metadata": {},
   "outputs": [],
   "source": [
    "query = open('route.sql', 'r')\n",
    "best_routes = pd.read_sql_query(query.read(), con=cnx)\n",
    "query.close() "
   ]
  },
  {
   "cell_type": "code",
   "execution_count": 45,
   "metadata": {},
   "outputs": [
    {
     "data": {
      "text/html": [
       "<div>\n",
       "<style scoped>\n",
       "    .dataframe tbody tr th:only-of-type {\n",
       "        vertical-align: middle;\n",
       "    }\n",
       "\n",
       "    .dataframe tbody tr th {\n",
       "        vertical-align: top;\n",
       "    }\n",
       "\n",
       "    .dataframe thead th {\n",
       "        text-align: right;\n",
       "    }\n",
       "</style>\n",
       "<table border=\"1\" class=\"dataframe\">\n",
       "  <thead>\n",
       "    <tr style=\"text-align: right;\">\n",
       "      <th></th>\n",
       "      <th>razao_social</th>\n",
       "      <th>aeroporto_origem</th>\n",
       "      <th>icao_aerodromo_origem</th>\n",
       "      <th>estado_origem</th>\n",
       "      <th>aeroporto_destino</th>\n",
       "      <th>icao_aerodromo_destino</th>\n",
       "      <th>estado_destino</th>\n",
       "    </tr>\n",
       "  </thead>\n",
       "  <tbody>\n",
       "    <tr>\n",
       "      <th>0</th>\n",
       "      <td>AZUL CONECTA LTDA. (EX TWO TAXI AEREO LTDA)</td>\n",
       "      <td>Coari Airport</td>\n",
       "      <td>SWKO</td>\n",
       "      <td>State of Amazonas</td>\n",
       "      <td>Eduardo Gomes International Airport</td>\n",
       "      <td>SBEG</td>\n",
       "      <td>Amazonas</td>\n",
       "    </tr>\n",
       "    <tr>\n",
       "      <th>1</th>\n",
       "      <td>AEROSUL TÁXI AÉREO LTDA (EX.: AUSTEN TÁXI AÉRE...</td>\n",
       "      <td>Hercílio Luz International Airport</td>\n",
       "      <td>SBFL</td>\n",
       "      <td>Santa Catarina</td>\n",
       "      <td>Caçador Airport</td>\n",
       "      <td>SBCD</td>\n",
       "      <td>Santa Catarina</td>\n",
       "    </tr>\n",
       "    <tr>\n",
       "      <th>2</th>\n",
       "      <td>AZUL LINHAS AÉREAS BRASILEIRAS S/A</td>\n",
       "      <td>Viracopos/Campinas International Airport</td>\n",
       "      <td>SBKP</td>\n",
       "      <td>São Paulo</td>\n",
       "      <td>Santos Dumont Airport</td>\n",
       "      <td>SBRJ</td>\n",
       "      <td>Rio de Janeiro</td>\n",
       "    </tr>\n",
       "    <tr>\n",
       "      <th>3</th>\n",
       "      <td>GOL LINHAS AÉREAS S.A. (EX- VRG LINHAS AÉREAS ...</td>\n",
       "      <td>Santos Dumont Airport</td>\n",
       "      <td>SBRJ</td>\n",
       "      <td>Rio de Janeiro</td>\n",
       "      <td>São Paulo–Congonhas Airport</td>\n",
       "      <td>SBSP</td>\n",
       "      <td>São Paulo</td>\n",
       "    </tr>\n",
       "    <tr>\n",
       "      <th>4</th>\n",
       "      <td>ABSA - AEROLINHAS BRASILEIRAS S.A.</td>\n",
       "      <td>Mariscal Sucre International Airport</td>\n",
       "      <td>SEQM</td>\n",
       "      <td>Pichincha</td>\n",
       "      <td>Miami International Airport</td>\n",
       "      <td>KMIA</td>\n",
       "      <td>Florida</td>\n",
       "    </tr>\n",
       "  </tbody>\n",
       "</table>\n",
       "</div>"
      ],
      "text/plain": [
       "                                        razao_social  \\\n",
       "0        AZUL CONECTA LTDA. (EX TWO TAXI AEREO LTDA)   \n",
       "1  AEROSUL TÁXI AÉREO LTDA (EX.: AUSTEN TÁXI AÉRE...   \n",
       "2                 AZUL LINHAS AÉREAS BRASILEIRAS S/A   \n",
       "3  GOL LINHAS AÉREAS S.A. (EX- VRG LINHAS AÉREAS ...   \n",
       "4                 ABSA - AEROLINHAS BRASILEIRAS S.A.   \n",
       "\n",
       "                           aeroporto_origem icao_aerodromo_origem  \\\n",
       "0                             Coari Airport                  SWKO   \n",
       "1        Hercílio Luz International Airport                  SBFL   \n",
       "2  Viracopos/Campinas International Airport                  SBKP   \n",
       "3                     Santos Dumont Airport                  SBRJ   \n",
       "4      Mariscal Sucre International Airport                  SEQM   \n",
       "\n",
       "       estado_origem                    aeroporto_destino  \\\n",
       "0  State of Amazonas  Eduardo Gomes International Airport   \n",
       "1     Santa Catarina                      Caçador Airport   \n",
       "2          São Paulo                Santos Dumont Airport   \n",
       "3     Rio de Janeiro          São Paulo–Congonhas Airport   \n",
       "4          Pichincha          Miami International Airport   \n",
       "\n",
       "  icao_aerodromo_destino  estado_destino  \n",
       "0                   SBEG        Amazonas  \n",
       "1                   SBCD  Santa Catarina  \n",
       "2                   SBRJ  Rio de Janeiro  \n",
       "3                   SBSP       São Paulo  \n",
       "4                   KMIA         Florida  "
      ]
     },
     "execution_count": 45,
     "metadata": {},
     "output_type": "execute_result"
    }
   ],
   "source": [
    "best_routes.to_sql(name='best_routes',con=cnx, if_exists='replace', index=False)\n",
    "best_routes.head()"
   ]
  },
  {
   "cell_type": "markdown",
   "metadata": {},
   "source": [
    "### Criacao da Visao Significant Air Companies\n",
    "Com os dados referentes as pricipais companias aereas em cada aeroporto"
   ]
  },
  {
   "cell_type": "markdown",
   "metadata": {},
   "source": [
    "Como no caso anterior executamos a modelagem da base via os script \"significant.sql\" que está anexado.\n",
    "\n",
    "Esse script é executado e então usamos Pandas para gravar essa visão no banco."
   ]
  },
  {
   "cell_type": "code",
   "execution_count": 46,
   "metadata": {},
   "outputs": [],
   "source": [
    "query = open('significant.sql', 'r')\n",
    "best_routes = pd.read_sql_query(query.read(), con=cnx)\n",
    "query.close() "
   ]
  },
  {
   "cell_type": "code",
   "execution_count": 47,
   "metadata": {},
   "outputs": [
    {
     "data": {
      "text/html": [
       "<div>\n",
       "<style scoped>\n",
       "    .dataframe tbody tr th:only-of-type {\n",
       "        vertical-align: middle;\n",
       "    }\n",
       "\n",
       "    .dataframe tbody tr th {\n",
       "        vertical-align: top;\n",
       "    }\n",
       "\n",
       "    .dataframe thead th {\n",
       "        text-align: right;\n",
       "    }\n",
       "</style>\n",
       "<table border=\"1\" class=\"dataframe\">\n",
       "  <thead>\n",
       "    <tr style=\"text-align: right;\">\n",
       "      <th></th>\n",
       "      <th>nome_aeroporto</th>\n",
       "      <th>icao_aeroporto</th>\n",
       "      <th>cia_area</th>\n",
       "      <th>n_destinos</th>\n",
       "      <th>n_origens</th>\n",
       "      <th>total_voos</th>\n",
       "    </tr>\n",
       "  </thead>\n",
       "  <tbody>\n",
       "    <tr>\n",
       "      <th>0</th>\n",
       "      <td>Viracopos/Campinas International Airport</td>\n",
       "      <td>SBKP</td>\n",
       "      <td>AZUL LINHAS AÉREAS BRASILEIRAS S/A</td>\n",
       "      <td>69</td>\n",
       "      <td>70</td>\n",
       "      <td>83423</td>\n",
       "    </tr>\n",
       "    <tr>\n",
       "      <th>1</th>\n",
       "      <td>São Paulo–Guarulhos International Airport</td>\n",
       "      <td>SBGR</td>\n",
       "      <td>TAM LINHAS AÉREAS S.A.</td>\n",
       "      <td>65</td>\n",
       "      <td>66</td>\n",
       "      <td>66354</td>\n",
       "    </tr>\n",
       "    <tr>\n",
       "      <th>2</th>\n",
       "      <td>Tancredo Neves International Airport (Confins ...</td>\n",
       "      <td>SBCF</td>\n",
       "      <td>AZUL LINHAS AÉREAS BRASILEIRAS S/A</td>\n",
       "      <td>45</td>\n",
       "      <td>45</td>\n",
       "      <td>41939</td>\n",
       "    </tr>\n",
       "    <tr>\n",
       "      <th>3</th>\n",
       "      <td>Recife/Guararapes–Gilberto Freyre Internationa...</td>\n",
       "      <td>SBRF</td>\n",
       "      <td>AZUL LINHAS AÉREAS BRASILEIRAS S/A</td>\n",
       "      <td>34</td>\n",
       "      <td>35</td>\n",
       "      <td>40991</td>\n",
       "    </tr>\n",
       "    <tr>\n",
       "      <th>4</th>\n",
       "      <td>Brasília International Airport (Presidente J. ...</td>\n",
       "      <td>SBBR</td>\n",
       "      <td>TAM LINHAS AÉREAS S.A.</td>\n",
       "      <td>37</td>\n",
       "      <td>37</td>\n",
       "      <td>32344</td>\n",
       "    </tr>\n",
       "  </tbody>\n",
       "</table>\n",
       "</div>"
      ],
      "text/plain": [
       "                                      nome_aeroporto icao_aeroporto  \\\n",
       "0           Viracopos/Campinas International Airport           SBKP   \n",
       "1          São Paulo–Guarulhos International Airport           SBGR   \n",
       "2  Tancredo Neves International Airport (Confins ...           SBCF   \n",
       "3  Recife/Guararapes–Gilberto Freyre Internationa...           SBRF   \n",
       "4  Brasília International Airport (Presidente J. ...           SBBR   \n",
       "\n",
       "                             cia_area  n_destinos  n_origens  total_voos  \n",
       "0  AZUL LINHAS AÉREAS BRASILEIRAS S/A          69         70       83423  \n",
       "1              TAM LINHAS AÉREAS S.A.          65         66       66354  \n",
       "2  AZUL LINHAS AÉREAS BRASILEIRAS S/A          45         45       41939  \n",
       "3  AZUL LINHAS AÉREAS BRASILEIRAS S/A          34         35       40991  \n",
       "4              TAM LINHAS AÉREAS S.A.          37         37       32344  "
      ]
     },
     "execution_count": 47,
     "metadata": {},
     "output_type": "execute_result"
    }
   ],
   "source": [
    "best_routes.to_sql(name='air_cia_per_airport',con=cnx, if_exists='replace', index=False)\n",
    "best_routes.head()"
   ]
  }
 ],
 "metadata": {
  "kernelspec": {
   "display_name": "Python 3.10.7 64-bit",
   "language": "python",
   "name": "python3"
  },
  "language_info": {
   "codemirror_mode": {
    "name": "ipython",
    "version": 3
   },
   "file_extension": ".py",
   "mimetype": "text/x-python",
   "name": "python",
   "nbconvert_exporter": "python",
   "pygments_lexer": "ipython3",
   "version": "3.10.7"
  },
  "orig_nbformat": 4,
  "vscode": {
   "interpreter": {
    "hash": "b93645a03e1ea1be71c1f9f844bc6ad4cf9e1d9e18d35fd598706a1530ff1742"
   }
  }
 },
 "nbformat": 4,
 "nbformat_minor": 2
}
